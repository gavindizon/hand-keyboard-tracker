{
 "cells": [
  {
   "attachments": {},
   "cell_type": "markdown",
   "metadata": {},
   "source": [
    "# **ty<span style='color:#00c49a'>ph</span>e**\n",
    "## **Map letters to fingers**\n",
    "\n",
    "This takes keyboard input data and filters letters to fingers they are pressed by. The final output are strings of letters tied to a finger that will be pasted to [this keyboard heat map generator](https://oha-ohashi.github.io/2022_1/a_ortho/ortho_heat.html) to generate heat maps each fingers."
   ]
  },
  {
   "attachments": {},
   "cell_type": "markdown",
   "metadata": {},
   "source": [
    "### Imports"
   ]
  },
  {
   "cell_type": "code",
   "execution_count": 1,
   "metadata": {},
   "outputs": [],
   "source": [
    "import os\n",
    "import json\n",
    "import re\n",
    "import math"
   ]
  },
  {
   "attachments": {},
   "cell_type": "markdown",
   "metadata": {},
   "source": [
    "### Getting all the inputs"
   ]
  },
  {
   "attachments": {},
   "cell_type": "markdown",
   "metadata": {},
   "source": [
    "Change these variables according to the desired input path and the regex for the needed keys."
   ]
  },
  {
   "cell_type": "code",
   "execution_count": 2,
   "metadata": {},
   "outputs": [],
   "source": [
    "input_folder_path = \"input/salvo\" # folder of .json files\n",
    "needed_keys = r\"^[a-zA-Z]$\" # only letters"
   ]
  },
  {
   "attachments": {},
   "cell_type": "markdown",
   "metadata": {},
   "source": [
    "Load the input .json files, open each file, filter unnecessary object keys and keyboard key presses, and append to `all_inputs`."
   ]
  },
  {
   "cell_type": "code",
   "execution_count": 3,
   "metadata": {},
   "outputs": [],
   "source": [
    "all_inputs = []\n",
    "\n",
    "input_file_list = os.listdir(input_folder_path)\n",
    "json_files = [input_file for input_file in input_file_list if input_file.endswith('.json')]\n",
    "\n",
    "for input_file in json_files:\n",
    "    with open(os.path.join(input_folder_path, input_file), 'r') as json_file:\n",
    "        json_data = json.load(json_file)\n",
    "\n",
    "        for input in range(len(json_data)):\n",
    "            finger = json_data[input]['hand'].lower() + \"_\" + json_data[input]['finger'].lower()\n",
    "            key_pressed = json_data[input]['keyPressed']\n",
    "\n",
    "            if re.match(needed_keys, key_pressed):\n",
    "                if finger == \"left_thumb\":\n",
    "                    finger = \"left_index\"\n",
    "                elif finger == \"right_thumb\":\n",
    "                    finger = \"right_index\"\n",
    "\n",
    "                all_inputs.append({'finger': finger, 'keyPressed': key_pressed})"
   ]
  },
  {
   "attachments": {},
   "cell_type": "markdown",
   "metadata": {},
   "source": [
    "### Logging the inputs for each finger"
   ]
  },
  {
   "attachments": {},
   "cell_type": "markdown",
   "metadata": {},
   "source": [
    "Create an object (`fingers`) with the keys being a finger with a string value of logs of their presses."
   ]
  },
  {
   "cell_type": "code",
   "execution_count": 4,
   "metadata": {},
   "outputs": [],
   "source": [
    "fingers = {}\n",
    "\n",
    "for input in all_inputs:\n",
    "    if input['finger'] not in fingers:\n",
    "        fingers[input['finger']] = \"\"\n",
    "    else:\n",
    "        fingers[input['finger']] += input['keyPressed']"
   ]
  },
  {
   "attachments": {},
   "cell_type": "markdown",
   "metadata": {},
   "source": [
    "### Adjusting the letter proportions\n",
    "\n",
    "Since the heat mapper does not accept very long texts, the logs need to be proportioned. If the `input['finger']` value is \"AAAADD\", then the proportioned string should be \"AAD\"."
   ]
  },
  {
   "cell_type": "code",
   "execution_count": 5,
   "metadata": {},
   "outputs": [],
   "source": [
    "for finger in fingers:\n",
    "    # get count of each letter\n",
    "    letter_count = {}\n",
    "\n",
    "    for letter in fingers[finger]:\n",
    "        if letter not in letter_count:\n",
    "            letter_count[letter] = 1\n",
    "        else:\n",
    "            letter_count[letter] += 1\n",
    "\n",
    "    letter_with_lowest_count = min(letter_count, key = lambda k: letter_count[k])\n",
    "\n",
    "    # divide each letter count by the lowest letter count and rounded up\n",
    "    for letter in letter_count:\n",
    "        letter_count[letter] = math.ceil(letter_count[letter] / letter_count[letter_with_lowest_count])\n",
    "        \n",
    "    # replace the logs with the shorter but similarly proportioned log\n",
    "    new_log = \"\"\n",
    "\n",
    "    for letter in letter_count:\n",
    "        for count in range(letter_count[letter]):\n",
    "            new_log += letter\n",
    "\n",
    "    fingers[finger] = (new_log)"
   ]
  },
  {
   "attachments": {},
   "cell_type": "markdown",
   "metadata": {},
   "source": [
    "### Exporting the logs to text files\n",
    "\n",
    "Each output .txt file contains a single string that is used to generate heat maps."
   ]
  },
  {
   "cell_type": "code",
   "execution_count": 6,
   "metadata": {},
   "outputs": [],
   "source": [
    "for finger in fingers:\n",
    "    file = open('output/' + input_folder_path.split(\"/\")[-1] + \"_\" + finger + \".txt\", 'w')\n",
    "    file.write(fingers[finger])\n",
    "    file.close()"
   ]
  },
  {
   "attachments": {},
   "cell_type": "markdown",
   "metadata": {},
   "source": [
    "### Generating the heat maps\n",
    "\n",
    "Use the text files in the output folder to generate the heat maps [here](https://oha-ohashi.github.io/2022_1/a_ortho/ortho_heat.html)."
   ]
  }
 ],
 "metadata": {
  "kernelspec": {
   "display_name": "Python 3",
   "language": "python",
   "name": "python3"
  },
  "language_info": {
   "codemirror_mode": {
    "name": "ipython",
    "version": 3
   },
   "file_extension": ".py",
   "mimetype": "text/x-python",
   "name": "python",
   "nbconvert_exporter": "python",
   "pygments_lexer": "ipython3",
   "version": "3.10.1"
  },
  "orig_nbformat": 4,
  "vscode": {
   "interpreter": {
    "hash": "ca39f88a2d38a95affbacc4b81fd00a2dd957c0206b925676ce258144ab36f3b"
   }
  }
 },
 "nbformat": 4,
 "nbformat_minor": 2
}
