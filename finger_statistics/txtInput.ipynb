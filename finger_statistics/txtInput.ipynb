{
 "cells": [
  {
   "attachments": {},
   "cell_type": "markdown",
   "metadata": {},
   "source": [
    "# **ty<span style='color:#00c49a'>ph</span>e**\n",
    "## **Condense .txt files**"
   ]
  },
  {
   "attachments": {},
   "cell_type": "markdown",
   "metadata": {},
   "source": [
    "### Imports"
   ]
  },
  {
   "cell_type": "code",
   "execution_count": 42,
   "metadata": {},
   "outputs": [],
   "source": [
    "import os\n",
    "import json\n",
    "import re\n",
    "import math"
   ]
  },
  {
   "attachments": {},
   "cell_type": "markdown",
   "metadata": {},
   "source": [
    "### Getting all the inputs"
   ]
  },
  {
   "attachments": {},
   "cell_type": "markdown",
   "metadata": {},
   "source": [
    "Change these variables according to the desired input path and the regex for the needed keys."
   ]
  },
  {
   "cell_type": "code",
   "execution_count": 43,
   "metadata": {},
   "outputs": [],
   "source": [
    "input_folder_path = \"input/carpalx\" # folder of .txt files\n",
    "needed_keys = r\"^[a-zA-Z]$\" # only letters"
   ]
  },
  {
   "cell_type": "code",
   "execution_count": 44,
   "metadata": {},
   "outputs": [],
   "source": [
    "all_texts = \"\"\n",
    "\n",
    "input_file_list = os.listdir(input_folder_path)\n",
    "txt_files = [input_file for input_file in input_file_list if input_file.endswith('.txt')]\n",
    "\n",
    "for input_file in txt_files:\n",
    "    with open(os.path.join(input_folder_path, input_file), 'r',  encoding=\"utf8\") as txt_file:\n",
    "        all_texts += txt_file.read().upper()"
   ]
  },
  {
   "cell_type": "code",
   "execution_count": 45,
   "metadata": {},
   "outputs": [],
   "source": [
    "letters = {}\n",
    "\n",
    "for letter in all_texts:\n",
    "    if re.match(needed_keys, letter):\n",
    "        if letter not in letters:\n",
    "            letters[letter] = 0\n",
    "        else:\n",
    "            letters[letter] += 1\n",
    "\n",
    "letter_with_lowest_count = min(letters, key = lambda k: letters[k])\n",
    "\n",
    "for letter in letters:\n",
    "    letters[letter] = math.ceil(letters[letter] / letters[letter_with_lowest_count])\n",
    "\n",
    "final_string = \"\"\n",
    "\n",
    "for letter in letters:\n",
    "    for count in range(letters[letter]):\n",
    "        final_string += letter"
   ]
  },
  {
   "attachments": {},
   "cell_type": "markdown",
   "metadata": {},
   "source": [
    "### Exporting the string to a text file\n",
    "\n",
    "The single .txt file contains a single string that is used to generate the heat map."
   ]
  },
  {
   "cell_type": "code",
   "execution_count": 46,
   "metadata": {},
   "outputs": [],
   "source": [
    "file = open('txt-output/carpalx.txt', 'w')\n",
    "file.write(final_string)\n",
    "file.close()"
   ]
  }
 ],
 "metadata": {
  "kernelspec": {
   "display_name": "Python 3",
   "language": "python",
   "name": "python3"
  },
  "language_info": {
   "codemirror_mode": {
    "name": "ipython",
    "version": 3
   },
   "file_extension": ".py",
   "mimetype": "text/x-python",
   "name": "python",
   "nbconvert_exporter": "python",
   "pygments_lexer": "ipython3",
   "version": "3.10.1"
  },
  "orig_nbformat": 4
 },
 "nbformat": 4,
 "nbformat_minor": 2
}
